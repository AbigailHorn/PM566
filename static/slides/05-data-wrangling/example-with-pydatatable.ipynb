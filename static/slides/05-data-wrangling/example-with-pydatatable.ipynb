{
 "cells": [
  {
   "cell_type": "markdown",
   "metadata": {},
   "source": [
    "# Data management with datatable in python"
   ]
  },
  {
   "cell_type": "markdown",
   "metadata": {},
   "source": [
    "In this example, we will be using the python version of datatable which is available [here](https://github.com/h2oai/datatable). This library can be directly installed using pip. Notice that you need to have python 3.5>= and a relative modern version of pip, otherwise you may see an error like what happened [here](https://github.com/h2oai/datatable/issues/2268)."
   ]
  },
  {
   "cell_type": "code",
   "execution_count": 1,
   "metadata": {},
   "outputs": [
    {
     "data": {
      "text/html": [
       "<style type='text/css'>\n",
       ".datatable table.frame { margin-bottom: 0; }\n",
       ".datatable table.frame thead { border-bottom: none; }\n",
       ".datatable table.frame tr.coltypes td {  color: #FFFFFF;  line-height: 6px;  padding: 0 0.5em;}\n",
       ".datatable .boolean { background: #DDDD99; }\n",
       ".datatable .object  { background: #565656; }\n",
       ".datatable .integer { background: #5D9E5D; }\n",
       ".datatable .float   { background: #4040CC; }\n",
       ".datatable .string  { background: #CC4040; }\n",
       ".datatable .row_index {  background: var(--jp-border-color3);  border-right: 1px solid var(--jp-border-color0);  color: var(--jp-ui-font-color3);  font-size: 9px;}\n",
       ".datatable .frame tr.coltypes .row_index {  background: var(--jp-border-color0);}\n",
       ".datatable th:nth-child(2) { padding-left: 12px; }\n",
       ".datatable .hellipsis {  color: var(--jp-cell-editor-border-color);}\n",
       ".datatable .vellipsis {  background: var(--jp-layout-color0);  color: var(--jp-cell-editor-border-color);}\n",
       ".datatable .na {  color: var(--jp-cell-editor-border-color);  font-size: 80%;}\n",
       ".datatable .footer { font-size: 9px; }\n",
       ".datatable .frame_dimensions {  background: var(--jp-border-color3);  border-top: 1px solid var(--jp-border-color0);  color: var(--jp-ui-font-color3);  display: inline-block;  opacity: 0.6;  padding: 1px 10px 1px 5px;}\n",
       "</style>\n"
      ],
      "text/plain": [
       "<IPython.core.display.HTML object>"
      ]
     },
     "metadata": {},
     "output_type": "display_data"
    }
   ],
   "source": [
    "import datatable as dt;\n",
    "import matplotlib.pyplot as mp; # To call the plot function on matplotlib"
   ]
  },
  {
   "cell_type": "code",
   "execution_count": 2,
   "metadata": {},
   "outputs": [],
   "source": [
    "met = dt.fread(\"met_all_dt.gz\")"
   ]
  },
  {
   "cell_type": "code",
   "execution_count": 3,
   "metadata": {},
   "outputs": [
    {
     "data": {
      "text/html": [
       "<div class='datatable'>\n",
       "  <table class='frame'>\n",
       "  <thead>\n",
       "    <tr class='colnames'><td class='row_index'></td><th>USAFID</th><th>WBAN</th><th>year</th><th>month</th><th>day</th><th>hour</th><th>min</th><th>lat</th><th>lon</th><th>elev</th><th class='vellipsis'>&hellip;</th><th>dew.point</th><th>dew.point.qc</th><th>atm.press</th><th>atm.press.qc</th><th>rh</th></tr>\n",
       "    <tr class='coltypes'><td class='row_index'></td><td class='integer' title='int32'>&#x25AA;&#x25AA;&#x25AA;&#x25AA;</td><td class='integer' title='int32'>&#x25AA;&#x25AA;&#x25AA;&#x25AA;</td><td class='integer' title='int32'>&#x25AA;&#x25AA;&#x25AA;&#x25AA;</td><td class='integer' title='int32'>&#x25AA;&#x25AA;&#x25AA;&#x25AA;</td><td class='integer' title='int32'>&#x25AA;&#x25AA;&#x25AA;&#x25AA;</td><td class='integer' title='int32'>&#x25AA;&#x25AA;&#x25AA;&#x25AA;</td><td class='integer' title='int32'>&#x25AA;&#x25AA;&#x25AA;&#x25AA;</td><td class='float' title='float64'>&#x25AA;&#x25AA;&#x25AA;&#x25AA;&#x25AA;&#x25AA;&#x25AA;&#x25AA;</td><td class='float' title='float64'>&#x25AA;&#x25AA;&#x25AA;&#x25AA;&#x25AA;&#x25AA;&#x25AA;&#x25AA;</td><td class='integer' title='int32'>&#x25AA;&#x25AA;&#x25AA;&#x25AA;</td><td></td><td class='float' title='float64'>&#x25AA;&#x25AA;&#x25AA;&#x25AA;&#x25AA;&#x25AA;&#x25AA;&#x25AA;</td><td class='string' title='str32'>&#x25AA;&#x25AA;&#x25AA;&#x25AA;</td><td class='float' title='float64'>&#x25AA;&#x25AA;&#x25AA;&#x25AA;&#x25AA;&#x25AA;&#x25AA;&#x25AA;</td><td class='integer' title='int32'>&#x25AA;&#x25AA;&#x25AA;&#x25AA;</td><td class='float' title='float64'>&#x25AA;&#x25AA;&#x25AA;&#x25AA;&#x25AA;&#x25AA;&#x25AA;&#x25AA;</td></tr>\n",
       "  </thead>\n",
       "  <tbody>\n",
       "    <tr><td class='row_index'>0</td><td>700001</td><td>26492</td><td>2019</td><td>8</td><td>1</td><td>0</td><td>53</td><td>60.785</td><td>&minus;148.838</td><td>31</td><td class=vellipsis>&hellip;</td><td>12.8</td><td>5</td><td>1015</td><td>5</td><td>77.9221</td></tr>\n",
       "    <tr><td class='row_index'>1</td><td>700001</td><td>26492</td><td>2019</td><td>8</td><td>1</td><td>1</td><td>53</td><td>60.785</td><td>&minus;148.838</td><td>31</td><td class=vellipsis>&hellip;</td><td>12.8</td><td>5</td><td>1015</td><td>5</td><td>70.466</td></tr>\n",
       "    <tr><td class='row_index'>2</td><td>700001</td><td>26492</td><td>2019</td><td>8</td><td>1</td><td>2</td><td>53</td><td>60.785</td><td>&minus;148.838</td><td>31</td><td class=vellipsis>&hellip;</td><td>12.2</td><td>5</td><td>1014.9</td><td>5</td><td>72.6081</td></tr>\n",
       "    <tr><td class='row_index'>3</td><td>700001</td><td>26492</td><td>2019</td><td>8</td><td>1</td><td>3</td><td>53</td><td>60.785</td><td>&minus;148.838</td><td>31</td><td class=vellipsis>&hellip;</td><td>12.2</td><td>5</td><td>1015.1</td><td>5</td><td>77.8378</td></tr>\n",
       "    <tr><td class='row_index'>4</td><td>700001</td><td>26492</td><td>2019</td><td>8</td><td>1</td><td>4</td><td>53</td><td>60.785</td><td>&minus;148.838</td><td>31</td><td class=vellipsis>&hellip;</td><td>12.2</td><td>5</td><td>1015.2</td><td>5</td><td>80.3508</td></tr>\n",
       "    <tr><td class='row_index'>5</td><td>700001</td><td>26492</td><td>2019</td><td>8</td><td>1</td><td>5</td><td>53</td><td>60.785</td><td>&minus;148.838</td><td>31</td><td class=vellipsis>&hellip;</td><td>12.2</td><td>5</td><td>1015.6</td><td>5</td><td>80.3508</td></tr>\n",
       "    <tr><td class='row_index'>6</td><td>700001</td><td>26492</td><td>2019</td><td>8</td><td>1</td><td>6</td><td>19</td><td>60.785</td><td>&minus;148.838</td><td>31</td><td class=vellipsis>&hellip;</td><td>11.1</td><td>5</td><td><span class=na>NA</span></td><td>9</td><td>83.3636</td></tr>\n",
       "    <tr><td class='row_index'>7</td><td>700001</td><td>26492</td><td>2019</td><td>8</td><td>1</td><td>6</td><td>53</td><td>60.785</td><td>&minus;148.838</td><td>31</td><td class=vellipsis>&hellip;</td><td>11.7</td><td>5</td><td>1015.7</td><td>5</td><td>83.9667</td></tr>\n",
       "    <tr><td class='row_index'>8</td><td>700001</td><td>26492</td><td>2019</td><td>8</td><td>1</td><td>7</td><td>51</td><td>60.785</td><td>&minus;148.838</td><td>31</td><td class=vellipsis>&hellip;</td><td>11</td><td>5</td><td><span class=na>NA</span></td><td>9</td><td>87.7742</td></tr>\n",
       "    <tr><td class='row_index'>9</td><td>700001</td><td>26492</td><td>2019</td><td>8</td><td>1</td><td>7</td><td>53</td><td>60.785</td><td>&minus;148.838</td><td>31</td><td class=vellipsis>&hellip;</td><td>10.6</td><td>5</td><td>1015.7</td><td>5</td><td>86.6086</td></tr>\n",
       "    <tr><td class='row_index'>10</td><td>700001</td><td>26492</td><td>2019</td><td>8</td><td>1</td><td>8</td><td>51</td><td>60.785</td><td>&minus;148.838</td><td>31</td><td class=vellipsis>&hellip;</td><td>11</td><td>5</td><td><span class=na>NA</span></td><td>9</td><td>87.7742</td></tr>\n",
       "    <tr><td class='row_index'>11</td><td>700001</td><td>26492</td><td>2019</td><td>8</td><td>1</td><td>8</td><td>53</td><td>60.785</td><td>&minus;148.838</td><td>31</td><td class=vellipsis>&hellip;</td><td>11.1</td><td>5</td><td>1016</td><td>5</td><td>83.3636</td></tr>\n",
       "    <tr><td class='row_index'>12</td><td>700001</td><td>26492</td><td>2019</td><td>8</td><td>1</td><td>8</td><td>59</td><td>60.785</td><td>&minus;148.838</td><td>31</td><td class=vellipsis>&hellip;</td><td><span class=na>NA</span></td><td>9</td><td><span class=na>NA</span></td><td>9</td><td><span class=na>NA</span></td></tr>\n",
       "    <tr><td class='row_index'>13</td><td>700001</td><td>26492</td><td>2019</td><td>8</td><td>1</td><td>9</td><td>44</td><td>60.785</td><td>&minus;148.838</td><td>31</td><td class=vellipsis>&hellip;</td><td>11.7</td><td>5</td><td><span class=na>NA</span></td><td>9</td><td>86.7085</td></tr>\n",
       "    <tr><td class='row_index'>14</td><td>700001</td><td>26492</td><td>2019</td><td>8</td><td>1</td><td>9</td><td>53</td><td>60.785</td><td>&minus;148.838</td><td>31</td><td class=vellipsis>&hellip;</td><td>11.1</td><td>5</td><td>1016.2</td><td>5</td><td>83.3636</td></tr>\n",
       "    <tr><td class='row_index'>&#x22EE;</td><td class='hellipsis'>&#x22EE;</td><td class='hellipsis'>&#x22EE;</td><td class='hellipsis'>&#x22EE;</td><td class='hellipsis'>&#x22EE;</td><td class='hellipsis'>&#x22EE;</td><td class='hellipsis'>&#x22EE;</td><td class='hellipsis'>&#x22EE;</td><td class='hellipsis'>&#x22EE;</td><td class='hellipsis'>&#x22EE;</td><td class='hellipsis'>&#x22EE;</td><td class='hellipsis'>&#x22F1;</td><td class='hellipsis'>&#x22EE;</td><td class='hellipsis'>&#x22EE;</td><td class='hellipsis'>&#x22EE;</td><td class='hellipsis'>&#x22EE;</td><td class='hellipsis'>&#x22EE;</td></tr>\n",
       "    <tr><td class='row_index'>147,055</td><td>912850</td><td>21504</td><td>2019</td><td>8</td><td>31</td><td>21</td><td>53</td><td>19.719</td><td>&minus;155.053</td><td>11</td><td class=vellipsis>&hellip;</td><td>22.8</td><td>5</td><td>1016.1</td><td>5</td><td>65.3439</td></tr>\n",
       "    <tr><td class='row_index'>147,056</td><td>912850</td><td>21504</td><td>2019</td><td>8</td><td>31</td><td>22</td><td>42</td><td>19.721</td><td>&minus;155.048</td><td>12</td><td class=vellipsis>&hellip;</td><td>23</td><td>1</td><td><span class=na>NA</span></td><td>9</td><td>66.1413</td></tr>\n",
       "    <tr><td class='row_index'>147,057</td><td>912850</td><td>21504</td><td>2019</td><td>8</td><td>31</td><td>22</td><td>42</td><td>19.721</td><td>&minus;155.048</td><td>12</td><td class=vellipsis>&hellip;</td><td>23.3</td><td>1</td><td><span class=na>NA</span></td><td>9</td><td>67.3535</td></tr>\n",
       "    <tr><td class='row_index'>147,058</td><td>912850</td><td>21504</td><td>2019</td><td>8</td><td>31</td><td>22</td><td>53</td><td>19.721</td><td>&minus;155.048</td><td>12</td><td class=vellipsis>&hellip;</td><td>22.8</td><td>1</td><td>1015.4</td><td>1</td><td>63.1178</td></tr>\n",
       "    <tr><td class='row_index'>147,059</td><td>912850</td><td>21504</td><td>2019</td><td>8</td><td>31</td><td>23</td><td>53</td><td>19.721</td><td>&minus;155.048</td><td>12</td><td class=vellipsis>&hellip;</td><td>22.2</td><td>1</td><td>1014.7</td><td>1</td><td>59.1263</td></tr>\n",
       "  </tbody>\n",
       "  </table>\n",
       "  <div class='footer'>\n",
       "    <div class='frame_dimensions'>147,060 rows &times; 30 columns</div>\n",
       "  </div>\n",
       "</div>\n"
      ],
      "text/plain": [
       "<Frame [147060 rows x 30 cols]>"
      ]
     },
     "execution_count": 3,
     "metadata": {},
     "output_type": "execute_result"
    }
   ],
   "source": [
    "met"
   ]
  },
  {
   "cell_type": "markdown",
   "metadata": {},
   "source": [
    "Average temperature by hour of the day for the first day of the month. The `dt.f` method allows accessing column names directly."
   ]
  },
  {
   "cell_type": "code",
   "execution_count": 4,
   "metadata": {},
   "outputs": [],
   "source": [
    "averages = met[dt.f.day == 1,:][:, dt.mean(dt.f.temp),dt.by(\"hour\")]"
   ]
  },
  {
   "cell_type": "code",
   "execution_count": 5,
   "metadata": {},
   "outputs": [
    {
     "data": {
      "text/plain": [
       "('USAFID',\n",
       " 'WBAN',\n",
       " 'year',\n",
       " 'month',\n",
       " 'day',\n",
       " 'hour',\n",
       " 'min',\n",
       " 'lat',\n",
       " 'lon',\n",
       " 'elev',\n",
       " 'wind.dir',\n",
       " 'wind.dir.qc',\n",
       " 'wind.type.code',\n",
       " 'wind.sp',\n",
       " 'wind.sp.qc',\n",
       " 'ceiling.ht',\n",
       " 'ceiling.ht.qc',\n",
       " 'ceiling.ht.method',\n",
       " 'sky.cond',\n",
       " 'vis.dist',\n",
       " 'vis.dist.qc',\n",
       " 'vis.var',\n",
       " 'vis.var.qc',\n",
       " 'temp',\n",
       " 'temp.qc',\n",
       " 'dew.point',\n",
       " 'dew.point.qc',\n",
       " 'atm.press',\n",
       " 'atm.press.qc',\n",
       " 'rh')"
      ]
     },
     "execution_count": 5,
     "metadata": {},
     "output_type": "execute_result"
    }
   ],
   "source": [
    "# This is how you can get the names of the month\n",
    "met.names"
   ]
  },
  {
   "cell_type": "code",
   "execution_count": 6,
   "metadata": {},
   "outputs": [],
   "source": [
    "averages = averages.to_numpy()"
   ]
  },
  {
   "cell_type": "code",
   "execution_count": 7,
   "metadata": {},
   "outputs": [
    {
     "data": {
      "text/plain": [
       "[<matplotlib.lines.Line2D at 0x7fe2e2b78ef0>]"
      ]
     },
     "execution_count": 7,
     "metadata": {},
     "output_type": "execute_result"
    },
    {
     "data": {
      "image/png": "[encoded data removed]",
      "text/plain": [
       "<Figure size 432x288 with 1 Axes>"
      ]
     },
     "metadata": {
      "needs_background": "light"
     },
     "output_type": "display_data"
    }
   ],
   "source": [
    "mp.plot(averages[:,0], averages[:,1])"
   ]
  },
  {
   "cell_type": "code",
   "execution_count": null,
   "metadata": {},
   "outputs": [],
   "source": []
  },
  {
   "cell_type": "code",
   "execution_count": null,
   "metadata": {},
   "outputs": [],
   "source": []
  }
 ],
 "metadata": {
  "kernelspec": {
   "display_name": "Python 3",
   "language": "python",
   "name": "python3"
  },
  "language_info": {
   "codemirror_mode": {
    "name": "ipython",
    "version": 3
   },
   "file_extension": ".py",
   "mimetype": "text/x-python",
   "name": "python",
   "nbconvert_exporter": "python",
   "pygments_lexer": "ipython3",
   "version": "3.6.9"
  }
 },
 "nbformat": 4,
 "nbformat_minor": 4
}
